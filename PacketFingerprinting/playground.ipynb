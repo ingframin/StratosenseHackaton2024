{
 "cells": [
  {
   "cell_type": "markdown",
   "metadata": {},
   "source": [
    "# Playground\n",
    "The function of this file is to be able to quickly test things."
   ]
  },
  {
   "cell_type": "code",
   "execution_count": 1,
   "metadata": {},
   "outputs": [
    {
     "name": "stderr",
     "output_type": "stream",
     "text": [
      "2024-11-11 16:13:37.460892: E tensorflow/stream_executor/cuda/cuda_blas.cc:2981] Unable to register cuBLAS factory: Attempting to register factory for plugin cuBLAS when one has already been registered\n"
     ]
    }
   ],
   "source": [
    "import numpy as np\n",
    "import matplotlib as plt\n",
    "import json \n",
    "import tensorflow as tf"
   ]
  },
  {
   "cell_type": "markdown",
   "metadata": {},
   "source": [
    "Run a test model here"
   ]
  },
  {
   "cell_type": "code",
   "execution_count": 2,
   "metadata": {},
   "outputs": [
    {
     "name": "stdout",
     "output_type": "stream",
     "text": [
      "(8, 2)\n",
      "(8, 2)\n",
      "(8, 2)\n",
      "(8, 2)\n",
      "(8, 2)\n",
      "(8, 2)\n",
      "(8, 2)\n",
      "(8, 2)\n",
      "(8, 2)\n",
      "(8, 2)\n",
      "(8, 2)\n",
      "(8, 2)\n"
     ]
    }
   ],
   "source": [
    "# Dataset\n",
    "inputsize = 8\n",
    "nr= 12\n",
    "data= np.random.random(size=(nr,inputsize,2))\n",
    "ds = zip(data,data,data)\n",
    "for i in ds:\n",
    "    print(i[0].shape)\n",
    "\n"
   ]
  },
  {
   "cell_type": "code",
   "execution_count": null,
   "metadata": {},
   "outputs": [
    {
     "ename": "",
     "evalue": "",
     "output_type": "error",
     "traceback": [
      "\u001b[1;31mThe Kernel crashed while executing code in the current cell or a previous cell. \n",
      "\u001b[1;31mPlease review the code in the cell(s) to identify a possible cause of the failure. \n",
      "\u001b[1;31mClick <a href='https://aka.ms/vscodeJupyterKernelCrash'>here</a> for more info. \n",
      "\u001b[1;31mView Jupyter <a href='command:jupyter.viewOutput'>log</a> for further details."
     ]
    }
   ],
   "source": [
    "class CModel(tf.keras.Model):\n",
    " \n",
    "    def train_step(self, x):\n",
    "        print(x)\n",
    "        return {m.name: m.result() for m in self.metrics}\n",
    "\n",
    "\n",
    "class Base:\n",
    "    \"\"\" The basic model oshea resnet \"\"\"\n",
    "    def __init__(self,input_shape=8,output_shape=6,name='Base') -> None:\n",
    "        ## Inputs\n",
    "        self.input_layer = tf.keras.Input(shape=(input_shape,2))\n",
    "        self.reshaper = tf.keras.layers.Reshape((1,input_shape,2))\n",
    "        self.featEx = FeatureExtraction(nr_layers=4)\n",
    "        self.output= Exit(output_shape)\n",
    "    \n",
    "    def build(self):\n",
    "        x = self.reshaper(self.input_layer)\n",
    "        x= self.featEx(x)\n",
    "        out = self.output(x)\n",
    "        return out, 'Full_model'\n",
    "         \n",
    "    def get_model(self,m=-1):\n",
    "        out,post = self.build(m)\n",
    "        return CModel(self.input_layer,out,name=post)\n",
    "\n",
    "class FeatureExtraction(CModel):\n",
    "    def __init__(self, nr_layers=7, filters=32,kernel_size=(1,3)):\n",
    "        super(FeatureExtraction, self).__init__()\n",
    "        self.ccns = [tf.keras.layers.Conv2D(filters=filters,kernel_size=kernel_size) for _ in range(nr_layers) ]\n",
    "        self.max_pool = tf.keras.layers.MaxPool2D((1,2))\n",
    "\n",
    "    def call(self, x, training=False):\n",
    "        for stack in self.cnns:\n",
    "            x = stack(x,training=training)\n",
    "            x = self.max_pool(x)\n",
    "        return x\n",
    "\n",
    "class FeatureExtraction(CModel):\n",
    "    def __init__(self, nr_layers=7, filters=32,kernel_size=(1,3)):\n",
    "        super(FeatureExtraction, self).__init__()\n",
    "        self.ccns = [tf.keras.layers.Conv2D(filters=filters,kernel_size=kernel_size) for _ in range(nr_layers) ]\n",
    "        self.max_pool = tf.keras.layers.MaxPool2D((1,2))\n",
    "\n",
    "    def call(self, x, training=False):\n",
    "        for stack in self.cnns:\n",
    "            x = stack(x,training=training)\n",
    "            x = self.max_pool(x)\n",
    "        return x\n",
    "\n",
    "class Exit(CModel):\n",
    "    \"\"\" Decision layer, this are multiple fully conected stacks + classefing stack \"\"\"\n",
    "    def __init__(self,output_shape,N_per_dense = (128,128) ):\n",
    "        super(Exit, self).__init__()\n",
    "        self.flatten = tf.keras.layers.Flatten()\n",
    "        self.dense_layers = [tf.keras.layers.Dense(nn,activation=tf.keras.activations.selu) for nn in N_per_dense ]\n",
    "        self.output_layer = tf.keras.layers.Dense(output_shape,activation=tf.keras.activations.softmax, name=\"Exit\")\n",
    "        self.dropout= tf.keras.layers.Dropout(0.1)\n",
    "\n",
    "    def call(self, input_tensor, training=False):\n",
    "        x = self.flatten(input_tensor)\n",
    "        for layer in self.dense_layers:\n",
    "            x = layer(x,training=training)\n",
    "            x= self.dropout(x,training=training)\n",
    "        out = self.output_layer(x,training=training)\n",
    "        return out\n",
    "    \n",
    "    def get_output(self):\n",
    "        return self.output_layer"
   ]
  },
  {
   "cell_type": "code",
   "execution_count": null,
   "metadata": {},
   "outputs": [],
   "source": [
    "cnns=4\n",
    "connected=(128,128)\n",
    "output_shape = 6\n",
    "\n",
    "input_shape= inputsize\n",
    "input_layer = tf.keras.Input(shape=(input_shape,2))\n",
    "x = tf.keras.layers.Reshape((1,input_shape,2))(input_layer)\n",
    "for _ in range(cnns):\n",
    "    x =  tf.keras.layers.Conv2D(filters=32,kernel_size=(1,3))(x)\n",
    "    x = tf.keras.layers.MaxPool2D((1,2))(x)\n",
    "\n",
    "for nn in connected:\n",
    "    x = tf.keras.layers.Dense(nn,activation=tf.keras.activations.selu)(x)\n",
    "    x= tf.keras.layers.Dropout(0.1)(x)\n",
    "out = tf.keras.layers.Dense(output_shape,activation=tf.keras.activations.softmax, name=\"Exit\")\n",
    "\n",
    "model = tf.keras.Model(input_layer,out)\n",
    "\n",
    "model.compile(optimizer='adam',\n",
    "              loss=tf.keras.losses.SparseCategoricalCrossentropy(from_logits=True),\n",
    "              metrics=['accuracy'])\n",
    "model.fit(ds,epochs=10)"
   ]
  }
 ],
 "metadata": {
  "kernelspec": {
   "display_name": "SyncSense",
   "language": "python",
   "name": "python3"
  },
  "language_info": {
   "codemirror_mode": {
    "name": "ipython",
    "version": 3
   },
   "file_extension": ".py",
   "mimetype": "text/x-python",
   "name": "python",
   "nbconvert_exporter": "python",
   "pygments_lexer": "ipython3",
   "version": "3.9.16"
  }
 },
 "nbformat": 4,
 "nbformat_minor": 2
}
